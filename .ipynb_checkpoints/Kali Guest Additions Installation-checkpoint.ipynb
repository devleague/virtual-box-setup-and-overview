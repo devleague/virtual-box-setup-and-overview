{
 "cells": [
  {
   "cell_type": "markdown",
   "metadata": {},
   "source": [
    "# Install Guest Addtions on Kali 2018.3\n",
    "\n",
    "* Install Kali\n",
    "\n",
    "* Login and open terminal  \n",
    "\n",
    "* `apt update`\n",
    "\n",
    "![apt update](img/apt-update.png)\n",
    "\n",
    "* `apt upgrade -y` or `apt dist-upgrade -y`\n",
    "\n",
    "* If you get errors on lock files:\n",
    "    * `rm /var/lib/dpkg/lock`\n",
    "    * `rm /var/cache/apt/archives/lock`\n",
    "    \n",
    "![apt upgrade](img/apt-upgrade-1.png)\n",
    "\n",
    "![apt upgrade](img/apt-upgrade-2.png)\n",
    "\n",
    "* `reboot 0`\n",
    "\n",
    "* **(Optional)** Take snapshot to have a version to go back to after major updates if following steps don't work\n",
    "\n",
    "* `apt install virtualbox-guest-dkms`\n",
    "\n",
    "![apt install virtualbox-guest-dkms](img/apt-virtualbox-guest-dkms.png)\n",
    "\n",
    "   - This will install all the linux-headers with current version from reboot of previous `apt update` steps\n",
    "\n",
    "* Enter `q` when documentation window pops up with `:` in lower left corner (didn't get screen capture)\n",
    "\n",
    "* Enter `No` at each prompt for setting up `wireshark-common` and `Samber servers and utilties` screens\n",
    "\n",
    "![wireshark-common prompt](img/wireshark-common-prompt.png)\n",
    "\n",
    "![samba prompt](img/samba-prompt.png)\n",
    "\n",
    "* Hit `Enter` to accept default value for the `/etc/cryptsetup-initramfs/conf-hook` modification prompt\n",
    "\n",
    "![conf-hook prompt](img/conf-hook-prompt.png)\n",
    "\n",
    "* You should see the installation finish \n",
    "\n",
    "![dkms confirmation](img/virtualbox-guest-dkms-confirm.png)\n",
    "\n",
    "* `reboot 0`\n",
    "\n",
    "##### Install Guest Additions\n",
    "* `cp /media/cdrom/VBoxGuestAdditions.run ~/Desktop`\n",
    "* `cd ~/Desktop`\n",
    "* `chmod +x ~/Desktop/VBoxGuestAdditions.run`\n",
    "* `./VBoxGuestAddtions.run`"
   ]
  },
  {
   "cell_type": "code",
   "execution_count": null,
   "metadata": {
    "collapsed": true
   },
   "outputs": [],
   "source": []
  }
 ],
 "metadata": {
  "kernelspec": {
   "display_name": "Python 3",
   "language": "python",
   "name": "python3"
  },
  "language_info": {
   "codemirror_mode": {
    "name": "ipython",
    "version": 3
   },
   "file_extension": ".py",
   "mimetype": "text/x-python",
   "name": "python",
   "nbconvert_exporter": "python",
   "pygments_lexer": "ipython3",
   "version": "3.6.2"
  }
 },
 "nbformat": 4,
 "nbformat_minor": 2
}
